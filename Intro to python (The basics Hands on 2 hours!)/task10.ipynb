{
 "cells": [
  {
   "cell_type": "code",
   "execution_count": 1,
   "metadata": {},
   "outputs": [
    {
     "name": "stdout",
     "output_type": "stream",
     "text": [
      "Reversed word: xam\n",
      "It's not a palindrome.\n"
     ]
    }
   ],
   "source": [
    "# Prompt the user to enter a word\n",
    "word = input(\"Enter a word: \").strip()\n",
    "\n",
    "# Reverse the word using slicing\n",
    "reversed_word = word[::-1]\n",
    "\n",
    "# Print the reversed word\n",
    "print(f\"Reversed word: {reversed_word}\")\n",
    "\n",
    "# Check if the word is a palindrome\n",
    "if word.lower() == reversed_word.lower():\n",
    "    print(\"It's a palindrome!\")\n",
    "else:\n",
    "    print(\"It's not a palindrome.\")"
   ]
  }
 ],
 "metadata": {
  "kernelspec": {
   "display_name": "base",
   "language": "python",
   "name": "python3"
  },
  "language_info": {
   "codemirror_mode": {
    "name": "ipython",
    "version": 3
   },
   "file_extension": ".py",
   "mimetype": "text/x-python",
   "name": "python",
   "nbconvert_exporter": "python",
   "pygments_lexer": "ipython3",
   "version": "3.12.7"
  }
 },
 "nbformat": 4,
 "nbformat_minor": 2
}
