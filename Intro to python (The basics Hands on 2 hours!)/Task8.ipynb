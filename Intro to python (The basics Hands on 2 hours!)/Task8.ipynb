{
 "cells": [
  {
   "cell_type": "code",
   "execution_count": 1,
   "metadata": {},
   "outputs": [],
   "source": [
    "# Prompt the user to enter a list of numbers separated by spaces\n",
    "numbers = input(\"Enter a series of numbers separated by spaces: \").split()\n",
    "\n"
   ]
  },
  {
   "cell_type": "code",
   "execution_count": 2,
   "metadata": {},
   "outputs": [
    {
     "name": "stdout",
     "output_type": "stream",
     "text": [
      "Largest number: 9.0\n",
      "Smallest number: 0.0\n"
     ]
    }
   ],
   "source": [
    "# Try to convert the inputs to numbers\n",
    "try:\n",
    "    numbers = [float(num) for num in numbers]\n",
    "    print(f\"Largest number: {max(numbers)}\")\n",
    "    print(f\"Smallest number: {min(numbers)}\")\n",
    "except ValueError:\n",
    "    # Print an error message for invalid inputs\n",
    "    print(\"Error: Please enter only numbers separated by spaces.\")"
   ]
  }
 ],
 "metadata": {
  "kernelspec": {
   "display_name": "base",
   "language": "python",
   "name": "python3"
  },
  "language_info": {
   "codemirror_mode": {
    "name": "ipython",
    "version": 3
   },
   "file_extension": ".py",
   "mimetype": "text/x-python",
   "name": "python",
   "nbconvert_exporter": "python",
   "pygments_lexer": "ipython3",
   "version": "3.12.7"
  }
 },
 "nbformat": 4,
 "nbformat_minor": 2
}
