{
 "cells": [
  {
   "cell_type": "code",
   "execution_count": null,
   "metadata": {},
   "outputs": [],
   "source": [
    "# Prompt the user to enter a list of numbers separated by spaces\n",
    "numbers = input(\"Enter a series of numbers separated by spaces: \").split()\n",
    "\n"
   ]
  },
  {
   "cell_type": "code",
   "execution_count": null,
   "metadata": {},
   "outputs": [],
   "source": [
    "# Try to convert the inputs to numbers\n",
    "try:\n",
    "    numbers = [float(num) for num in numbers]\n",
    "    print(f\"Largest number: {max(numbers)}\")\n",
    "    print(f\"Smallest number: {min(numbers)}\")\n",
    "except ValueError:\n",
    "    # Print an error message for invalid inputs\n",
    "    print(\"Error: Please enter only numbers separated by spaces.\")"
   ]
  }
 ],
 "metadata": {
  "language_info": {
   "name": "python"
  }
 },
 "nbformat": 4,
 "nbformat_minor": 2
}
