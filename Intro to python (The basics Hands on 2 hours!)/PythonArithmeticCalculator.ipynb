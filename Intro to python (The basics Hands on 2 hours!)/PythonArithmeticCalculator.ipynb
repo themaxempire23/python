{
 "cells": [
  {
   "cell_type": "markdown",
   "metadata": {},
   "source": [
    "Python Arithmetic Calculator"
   ]
  },
  {
   "cell_type": "code",
   "execution_count": 1,
   "metadata": {},
   "outputs": [
    {
     "name": "stdout",
     "output_type": "stream",
     "text": [
      "Welcome to the Python Calculator!\n"
     ]
    }
   ],
   "source": [
    "# Print a welcome message for the calculator\n",
    "print(\"Welcome to the Python Calculator!\")"
   ]
  },
  {
   "cell_type": "code",
   "execution_count": 6,
   "metadata": {},
   "outputs": [],
   "source": [
    "# Prompt the user for two numbers as input\n",
    "num1 = input(\"Enter the first number: \")\n",
    "num2 = input(\"Enter the second number: \")"
   ]
  },
  {
   "cell_type": "code",
   "execution_count": 7,
   "metadata": {},
   "outputs": [
    {
     "name": "stdout",
     "output_type": "stream",
     "text": [
      "\n",
      "Choose an operation:\n",
      "1. Addition\n",
      "2. Subtraction\n",
      "3. Multiplication\n",
      "4. Division\n",
      "5. Modulus\n",
      "Result: 40.0 - 70.0 = -30.0\n"
     ]
    }
   ],
   "source": [
    "# check whether two inputs, num1 and num2, are numbers, including decimal numbers\n",
    "if num1.replace('.', '', 1).isdigit() and num2.replace('.', '', 1).isdigit():\n",
    "    # Convert inputs to floating-point numbers for calculations\n",
    "    num1, num2 = float(num1), float(num2)\n",
    "\n",
    "    # Print the list of available operations\n",
    "    print(\"\\nChoose an operation:\")\n",
    "    print(\"1. Addition\\n2. Subtraction\\n3. Multiplication\\n4. Division\\n5. Modulus\")\n",
    "\n",
    "    # Prompt the user to choose an operation\n",
    "    choice = input(\"Enter the operation number (1-5): \")\n",
    "\n",
    "    # Perform the selected operation\n",
    "    # Using a nested if statement, an if statemnet within an if statement\n",
    "    if choice == '1':\n",
    "        print(f\"Result: {num1} + {num2} = {num1 + num2}\")\n",
    "    elif choice == '2':\n",
    "        print(f\"Result: {num1} - {num2} = {num1 - num2}\")\n",
    "    elif choice == '3':\n",
    "        print(f\"Result: {num1} * {num2} = {num1 * num2}\")\n",
    "    elif choice == '4':\n",
    "        # Check for division by zero\n",
    "        if num2 != 0:\n",
    "            print(f\"Result: {num1} / {num2} = {num1 / num2}\")\n",
    "        else:\n",
    "            print(\"Error: Division by zero is undefined.\")\n",
    "    elif choice == '5':\n",
    "        print(f\"Result: {num1} % {num2} = {num1 % num2}\")\n",
    "    else:\n",
    "        # Handle invalid operation choices\n",
    "        print(\"Invalid operation choice.\")\n",
    "else:\n",
    "    # Print an error message if inputs are invalid\n",
    "    print(\"Error: Please enter valid numbers.\")"
   ]
  }
 ],
 "metadata": {
  "kernelspec": {
   "display_name": "base",
   "language": "python",
   "name": "python3"
  },
  "language_info": {
   "codemirror_mode": {
    "name": "ipython",
    "version": 3
   },
   "file_extension": ".py",
   "mimetype": "text/x-python",
   "name": "python",
   "nbconvert_exporter": "python",
   "pygments_lexer": "ipython3",
   "version": "3.12.7"
  }
 },
 "nbformat": 4,
 "nbformat_minor": 2
}
