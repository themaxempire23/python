{
 "cells": [
  {
   "cell_type": "code",
   "execution_count": 4,
   "metadata": {},
   "outputs": [],
   "source": [
    "#Initialing an empty list\n",
    "# A list is just a container that holds multiple items\n",
    "\n",
    "my_list = []"
   ]
  },
  {
   "cell_type": "code",
   "execution_count": 5,
   "metadata": {},
   "outputs": [
    {
     "name": "stdout",
     "output_type": "stream",
     "text": [
      "\n",
      "Choose an action\n",
      "1. Add an item\n",
      "2. Remove an item\n",
      "3 View list\n",
      "4. Quit\n",
      "Exiting the program. Goodbye!\n"
     ]
    }
   ],
   "source": [
    "# Starting an infite loop for this menu\n",
    "\n",
    "while True:\n",
    "    # Display the menu options\n",
    "    print(\"\\nChoose an action\")\n",
    "    print(\"1. Add an item\\n2. Remove an item\\n3 View list\\n4. Quit\")\n",
    "\n",
    "    # Ask the user for their choice\n",
    "    choice = input(\"Enter your choice (1-4): \")\n",
    "\n",
    "        # Option 1: Add an item to the list\n",
    "    if choice == '1':\n",
    "        item = input(\"Enter an item to add: \")\n",
    "        my_list.append(item)\n",
    "        print(f\"'{item}' added to the list.\")\n",
    "\n",
    "    # Option 2: Remove an item from the list\n",
    "    elif choice == '2':\n",
    "        item = input(\"Enter the item to remove: \")\n",
    "        if item in my_list:\n",
    "            my_list.remove(item)\n",
    "            print(f\"'{item}' removed from the list.\")\n",
    "        else:\n",
    "            print(\"Item not found in the list.\")\n",
    "\n",
    "    # Option 3: View the current list\n",
    "    elif choice == '3':\n",
    "        print(\"Current List:\", my_list if my_list else \"The list is empty.\")\n",
    "\n",
    "    # Option 4: Quit the program\n",
    "    elif choice == '4':\n",
    "        print(\"Exiting the program. Goodbye!\")\n",
    "        break\n",
    "\n",
    "    # Handle invalid choices\n",
    "    else:\n",
    "        print(\"Invalid choice. Please enter a number between 1 and 4.\")"
   ]
  }
 ],
 "metadata": {
  "kernelspec": {
   "display_name": "base",
   "language": "python",
   "name": "python3"
  },
  "language_info": {
   "codemirror_mode": {
    "name": "ipython",
    "version": 3
   },
   "file_extension": ".py",
   "mimetype": "text/x-python",
   "name": "python",
   "nbconvert_exporter": "python",
   "pygments_lexer": "ipython3",
   "version": "3.12.7"
  }
 },
 "nbformat": 4,
 "nbformat_minor": 2
}
