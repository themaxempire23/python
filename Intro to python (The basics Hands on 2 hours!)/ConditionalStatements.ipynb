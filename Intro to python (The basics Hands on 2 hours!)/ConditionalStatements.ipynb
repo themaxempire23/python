{
 "cells": [
  {
   "cell_type": "markdown",
   "metadata": {},
   "source": [
    "### Getting user's age "
   ]
  },
  {
   "cell_type": "code",
   "execution_count": 2,
   "metadata": {},
   "outputs": [
    {
     "name": "stdout",
     "output_type": "stream",
     "text": [
      "I am under 39!\n"
     ]
    }
   ],
   "source": [
    "# Checkimg if user is under 39 years of age\n",
    "age = int(input('How old are you?'))\n",
    "if ((age) > 39):\n",
    "    print ('I am Over 39!')\n",
    "else:\n",
    "    print('I am under 39!')\n"
   ]
  },
  {
   "cell_type": "code",
   "execution_count": 3,
   "metadata": {},
   "outputs": [
    {
     "name": "stdout",
     "output_type": "stream",
     "text": [
      "I am Over 65!\n",
      "I am Over 65 too!\n",
      "Thank you👍!\n"
     ]
    }
   ],
   "source": [
    "# Checkimg if user is under 39 years of age\n",
    "age = int(input('How old are you?'))\n",
    "if ((age) > 65):\n",
    "    print ('I am Over 65!')\n",
    "    if ((age) > 60):\n",
    "        print ('I am Over 65 too!')\n",
    "else:\n",
    "    print('I am under 65!')\n",
    "print ('Thank you👍!')   "
   ]
  },
  {
   "cell_type": "code",
   "execution_count": 8,
   "metadata": {},
   "outputs": [
    {
     "name": "stdout",
     "output_type": "stream",
     "text": [
      "I am under 50!\n",
      "Thank you👍!\n"
     ]
    }
   ],
   "source": [
    "# else / elif statementS\n",
    "\n",
    "age = int(input('How old are you?'))\n",
    "if (60 > (age) > 50):\n",
    "    print ('I am Over 50!')\n",
    "elif ((age) > 60):\n",
    "     print ('I am Over 60 too!')\n",
    "else:\n",
    "    print('I am under 50!')\n",
    "print ('Thank you👍!')  "
   ]
  }
 ],
 "metadata": {
  "kernelspec": {
   "display_name": "base",
   "language": "python",
   "name": "python3"
  },
  "language_info": {
   "codemirror_mode": {
    "name": "ipython",
    "version": 3
   },
   "file_extension": ".py",
   "mimetype": "text/x-python",
   "name": "python",
   "nbconvert_exporter": "python",
   "pygments_lexer": "ipython3",
   "version": "3.12.7"
  }
 },
 "nbformat": 4,
 "nbformat_minor": 2
}
