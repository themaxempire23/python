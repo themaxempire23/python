{
 "cells": [
  {
   "cell_type": "code",
   "execution_count": 1,
   "metadata": {},
   "outputs": [],
   "source": [
    "# Ask the user for the starting and ending numbers\n",
    "start = int(input(\"Enter the starting number: \"))\n"
   ]
  },
  {
   "cell_type": "code",
   "execution_count": 2,
   "metadata": {},
   "outputs": [],
   "source": [
    "end = int(input(\"Enter the ending number: \"))\n",
    "\n"
   ]
  },
  {
   "cell_type": "code",
   "execution_count": 3,
   "metadata": {},
   "outputs": [
    {
     "name": "stdout",
     "output_type": "stream",
     "text": [
      "Counting up:\n",
      "5 "
     ]
    }
   ],
   "source": [
    "# Check if the starting number is greater than the ending number\n",
    "if start > end:\n",
    "    print(\"Counting down:\")\n",
    "    # Count down from start to end\n",
    "    for i in range(start, end - 1, -1):\n",
    "        print(i, end=\" \")\n",
    "else:\n",
    "    print(\"Counting up:\")\n",
    "    # Count up from start to end\n",
    "    for i in range(start, end + 1):\n",
    "        print(i, end=\" \")\n",
    "\n"
   ]
  },
  {
   "cell_type": "code",
   "execution_count": 4,
   "metadata": {},
   "outputs": [
    {
     "name": "stdout",
     "output_type": "stream",
     "text": [
      "\n",
      "Done!\n"
     ]
    }
   ],
   "source": [
    "# Print a completion message\n",
    "print(\"\\nDone!\") "
   ]
  }
 ],
 "metadata": {
  "kernelspec": {
   "display_name": "base",
   "language": "python",
   "name": "python3"
  },
  "language_info": {
   "codemirror_mode": {
    "name": "ipython",
    "version": 3
   },
   "file_extension": ".py",
   "mimetype": "text/x-python",
   "name": "python",
   "nbconvert_exporter": "python",
   "pygments_lexer": "ipython3",
   "version": "3.12.7"
  }
 },
 "nbformat": 4,
 "nbformat_minor": 2
}
