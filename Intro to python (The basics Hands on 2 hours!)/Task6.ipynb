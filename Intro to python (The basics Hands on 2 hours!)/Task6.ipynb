{
 "cells": [
  {
   "cell_type": "code",
   "execution_count": 1,
   "metadata": {},
   "outputs": [
    {
     "name": "stdout",
     "output_type": "stream",
     "text": [
      "Rick\n",
      "Terry\n",
      "Cathy\n"
     ]
    }
   ],
   "source": [
    "# Python Loops\n",
    "\n",
    "# Looping through and printing all the values in a list\n",
    "names = [\"Rick\", \"Terry\", \"Cathy\"]\n",
    "for x in names:\n",
    "    print(x)"
   ]
  },
  {
   "cell_type": "code",
   "execution_count": 2,
   "metadata": {},
   "outputs": [
    {
     "name": "stdout",
     "output_type": "stream",
     "text": [
      "R\n",
      "i\n",
      "c\n",
      "k\n"
     ]
    }
   ],
   "source": [
    "# Looping through and printing all letters in Rick\n",
    "for x in \"Rick\":\n",
    "    print(x)"
   ]
  },
  {
   "cell_type": "code",
   "execution_count": 3,
   "metadata": {},
   "outputs": [
    {
     "name": "stdout",
     "output_type": "stream",
     "text": [
      "1\n",
      "6\n",
      "11\n",
      "16\n",
      "21\n",
      "26\n"
     ]
    }
   ],
   "source": [
    "# Printing numbers from 1 - 30 in increments of 5\n",
    "for x in range(1,30, 5):\n",
    "    print(x)"
   ]
  },
  {
   "cell_type": "code",
   "execution_count": 4,
   "metadata": {},
   "outputs": [
    {
     "name": "stdout",
     "output_type": "stream",
     "text": [
      "smart Rick\n",
      "smart Terry\n",
      "smart Cathy\n",
      "funny Rick\n",
      "funny Terry\n",
      "funny Cathy\n",
      "old Rick\n",
      "old Terry\n",
      "old Cathy\n"
     ]
    }
   ],
   "source": [
    "# Creating a nested loop within a loop\n",
    "desc = [\"smart\", \"funny\", \"old\"]\n",
    "fruits = [\"Jack\", \"Pete\", \"Jen\"]\n",
    "\n",
    "for x in desc:\n",
    "    for y in names:\n",
    "        print(x, y)"
   ]
  },
  {
   "cell_type": "code",
   "execution_count": 6,
   "metadata": {},
   "outputs": [
    {
     "name": "stdout",
     "output_type": "stream",
     "text": [
      "9\n",
      "10\n",
      "11\n",
      "12\n",
      "13\n",
      "14\n",
      "i is no longer less than 6\n"
     ]
    }
   ],
   "source": [
    "# A while Loop\n",
    "# Continues the loop while some condition is true\n",
    "# Example: Refreshing the screen while playing a game\n",
    "\n",
    "i = 9\n",
    "while i < 15:\n",
    "    print(i)\n",
    "    i += 1\n",
    "else:\n",
    "    print(\"i is no longer less than 6\") \n"
   ]
  }
 ],
 "metadata": {
  "kernelspec": {
   "display_name": "base",
   "language": "python",
   "name": "python3"
  },
  "language_info": {
   "codemirror_mode": {
    "name": "ipython",
    "version": 3
   },
   "file_extension": ".py",
   "mimetype": "text/x-python",
   "name": "python",
   "nbconvert_exporter": "python",
   "pygments_lexer": "ipython3",
   "version": "3.12.7"
  }
 },
 "nbformat": 4,
 "nbformat_minor": 2
}
