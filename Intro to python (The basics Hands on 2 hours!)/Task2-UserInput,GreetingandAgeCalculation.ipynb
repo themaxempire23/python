{
 "cells": [
  {
   "cell_type": "markdown",
   "metadata": {},
   "source": [
    "### Asking user for name and clean extra spaces\n"
   ]
  },
  {
   "cell_type": "code",
   "execution_count": 4,
   "metadata": {},
   "outputs": [],
   "source": [
    "name = input(\"What is your name? \").strip()"
   ]
  },
  {
   "cell_type": "markdown",
   "metadata": {},
   "source": [
    "#### Ask the user for their birthday year"
   ]
  },
  {
   "cell_type": "code",
   "execution_count": 7,
   "metadata": {},
   "outputs": [],
   "source": [
    "birth_year = input(\"What year were you born? \")"
   ]
  },
  {
   "cell_type": "markdown",
   "metadata": {},
   "source": [
    "#### Checking if the birth year actually contains (valid input)"
   ]
  },
  {
   "cell_type": "code",
   "execution_count": 8,
   "metadata": {},
   "outputs": [
    {
     "name": "stdout",
     "output_type": "stream",
     "text": [
      "Hello, Max! You are approximately 24 years old.\n"
     ]
    }
   ],
   "source": [
    "if birth_year.isdigit():\n",
    "    # Convert the birth year to an integer and calculate the age\n",
    "    age = 2025 - int(birth_year)\n",
    "    # Print a personalized greeting with the user's age\n",
    "    print(f\"Hello, {name}! You are approximately {age} years old.\")\n",
    "else:\n",
    "    # Print an error message if the birth year is invalid\n",
    "    print(\"Invalid input for birth year. Please enter numbers only.\")"
   ]
  }
 ],
 "metadata": {
  "kernelspec": {
   "display_name": "base",
   "language": "python",
   "name": "python3"
  },
  "language_info": {
   "codemirror_mode": {
    "name": "ipython",
    "version": 3
   },
   "file_extension": ".py",
   "mimetype": "text/x-python",
   "name": "python",
   "nbconvert_exporter": "python",
   "pygments_lexer": "ipython3",
   "version": "3.12.7"
  }
 },
 "nbformat": 4,
 "nbformat_minor": 2
}
