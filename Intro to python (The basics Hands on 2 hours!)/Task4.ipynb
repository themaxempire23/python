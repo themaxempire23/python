{
 "cells": [
  {
   "cell_type": "code",
   "execution_count": 1,
   "metadata": {},
   "outputs": [],
   "source": [
    "# Prompt the user to enter an interger value\n",
    "number = input(\"Enter an integer: \")"
   ]
  },
  {
   "cell_type": "code",
   "execution_count": 2,
   "metadata": {},
   "outputs": [
    {
     "name": "stdout",
     "output_type": "stream",
     "text": [
      "The number 2 is even.\n"
     ]
    }
   ],
   "source": [
    " # Check if the input is a valid integer (allowing negative numbers)\n",
    "if number.lstrip('-').isdigit():\n",
    "    # Convert the input string to an integer\n",
    "    number = int(number)\n",
    "\n",
    "    # Check if the number is zero\n",
    "    if number == 0:\n",
    "        print(\"The number is zero.\")\n",
    "    # Check if the number is even\n",
    "    elif number % 2 == 0:\n",
    "        print(f\"The number {number} is even.\")\n",
    "    else:\n",
    "        # If not zero or even, the number is odd\n",
    "        print(f\"The number {number} is odd.\")\n",
    "else:\n",
    "    # Print an error message for invalid input\n",
    "    print(\"Invalid input. Please enter a valid integer.\")"
   ]
  }
 ],
 "metadata": {
  "kernelspec": {
   "display_name": "base",
   "language": "python",
   "name": "python3"
  },
  "language_info": {
   "codemirror_mode": {
    "name": "ipython",
    "version": 3
   },
   "file_extension": ".py",
   "mimetype": "text/x-python",
   "name": "python",
   "nbconvert_exporter": "python",
   "pygments_lexer": "ipython3",
   "version": "3.12.7"
  }
 },
 "nbformat": 4,
 "nbformat_minor": 2
}
